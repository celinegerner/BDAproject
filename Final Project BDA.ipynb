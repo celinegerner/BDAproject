{
 "cells": [
  {
   "cell_type": "code",
   "execution_count": 2,
   "metadata": {},
   "outputs": [
    {
     "name": "stderr",
     "output_type": "stream",
     "text": [
      "C:\\Users\\celin\\Anaconda3\\lib\\site-packages\\sklearn\\externals\\six.py:31: DeprecationWarning: The module is deprecated in version 0.21 and will be removed in version 0.23 since we've dropped support for Python 2.7. Please rely on the official version of six (https://pypi.org/project/six/).\n",
      "  \"(https://pypi.org/project/six/).\", DeprecationWarning)\n",
      "C:\\Users\\celin\\Anaconda3\\lib\\site-packages\\sklearn\\externals\\joblib\\__init__.py:15: DeprecationWarning: sklearn.externals.joblib is deprecated in 0.21 and will be removed in 0.23. Please import this functionality directly from joblib, which can be installed with: pip install joblib. If this warning is raised when loading pickled models, you may need to re-serialize those models with scikit-learn 0.21+.\n",
      "  warnings.warn(msg, category=DeprecationWarning)\n"
     ]
    }
   ],
   "source": [
    "import pandas as pd\n",
    "import warnings\n",
    "import matplotlib.pyplot as plt\n",
    "import mglearn\n",
    "from sklearn.model_selection import train_test_split\n",
    "from sklearn.ensemble import RandomForestClassifier\n",
    "from sklearn.ensemble import RandomForestRegressor\n",
    "from sklearn.preprocessing import StandardScaler  \n",
    "from sklearn.neural_network import MLPClassifier\n",
    "from sklearn.datasets import load_breast_cancer\n",
    "from sklearn.manifold import TSNE\n",
    "from sklearn.linear_model import LinearRegression\n",
    "from sklearn.neural_network import MLPClassifier\n",
    "from sklearn.decomposition import PCA"
   ]
  },
  {
   "cell_type": "markdown",
   "metadata": {},
   "source": [
    "### Question 1\n",
    "Load the telco data from Lab 3, and perform a train-test split. Now scale the data, using StandardScaler. To do this, you fit the scaler to the train data and use that to transform both the train and test data. Now build the MLP model, and print the results. How do they compare with the MLP results without scaling (from Lab 3)?"
   ]
  },
  {
   "cell_type": "code",
   "execution_count": 13,
   "metadata": {},
   "outputs": [],
   "source": [
    "df = pd.read_csv(\"2018-2014_Financial_Data.csv\")\n",
    "X = df.drop(['Class'], axis=1)\n",
    "y = df['Class']\n",
    "\n",
    "X_train, X_test, y_train, y_test = train_test_split(\n",
    "    X, y, stratify=y, random_state=42)"
   ]
  },
  {
   "cell_type": "code",
   "execution_count": 14,
   "metadata": {},
   "outputs": [
    {
     "data": {
      "text/html": [
       "<div>\n",
       "<style scoped>\n",
       "    .dataframe tbody tr th:only-of-type {\n",
       "        vertical-align: middle;\n",
       "    }\n",
       "\n",
       "    .dataframe tbody tr th {\n",
       "        vertical-align: top;\n",
       "    }\n",
       "\n",
       "    .dataframe thead th {\n",
       "        text-align: right;\n",
       "    }\n",
       "</style>\n",
       "<table border=\"1\" class=\"dataframe\">\n",
       "  <thead>\n",
       "    <tr style=\"text-align: right;\">\n",
       "      <th></th>\n",
       "      <th>Unnamed: 0</th>\n",
       "      <th>Year</th>\n",
       "      <th>Revenue</th>\n",
       "      <th>Revenue Growth</th>\n",
       "      <th>Cost of Revenue</th>\n",
       "      <th>Gross Profit</th>\n",
       "      <th>R&amp;D Expenses</th>\n",
       "      <th>SG&amp;A Expense</th>\n",
       "      <th>Operating Expenses</th>\n",
       "      <th>Operating Income</th>\n",
       "      <th>...</th>\n",
       "      <th>Receivables growth</th>\n",
       "      <th>Inventory Growth</th>\n",
       "      <th>Asset Growth</th>\n",
       "      <th>Book Value per Share Growth</th>\n",
       "      <th>Debt Growth</th>\n",
       "      <th>R&amp;D Expense Growth</th>\n",
       "      <th>SG&amp;A Expenses Growth</th>\n",
       "      <th>Sector</th>\n",
       "      <th>2019 PRICE VAR [%]</th>\n",
       "      <th>Class</th>\n",
       "    </tr>\n",
       "  </thead>\n",
       "  <tbody>\n",
       "    <tr>\n",
       "      <td>0</td>\n",
       "      <td>CMCSA</td>\n",
       "      <td>2018</td>\n",
       "      <td>9.450700e+10</td>\n",
       "      <td>0.1115</td>\n",
       "      <td>0.000000e+00</td>\n",
       "      <td>9.450700e+10</td>\n",
       "      <td>0.000000e+00</td>\n",
       "      <td>6.482200e+10</td>\n",
       "      <td>7.549800e+10</td>\n",
       "      <td>1.900900e+10</td>\n",
       "      <td>...</td>\n",
       "      <td>0.2570</td>\n",
       "      <td>0.0000</td>\n",
       "      <td>0.3426</td>\n",
       "      <td>0.0722</td>\n",
       "      <td>0.7309</td>\n",
       "      <td>0.0000</td>\n",
       "      <td>0.1308</td>\n",
       "      <td>Consumer Cyclical</td>\n",
       "      <td>32.794573</td>\n",
       "      <td>1</td>\n",
       "    </tr>\n",
       "    <tr>\n",
       "      <td>1</td>\n",
       "      <td>KMI</td>\n",
       "      <td>2018</td>\n",
       "      <td>1.414400e+10</td>\n",
       "      <td>0.0320</td>\n",
       "      <td>7.288000e+09</td>\n",
       "      <td>6.856000e+09</td>\n",
       "      <td>0.000000e+00</td>\n",
       "      <td>6.010000e+08</td>\n",
       "      <td>3.062000e+09</td>\n",
       "      <td>3.794000e+09</td>\n",
       "      <td>...</td>\n",
       "      <td>0.0345</td>\n",
       "      <td>-0.0920</td>\n",
       "      <td>-0.0024</td>\n",
       "      <td>0.0076</td>\n",
       "      <td>-0.0137</td>\n",
       "      <td>0.0000</td>\n",
       "      <td>-0.1265</td>\n",
       "      <td>Energy</td>\n",
       "      <td>40.588068</td>\n",
       "      <td>1</td>\n",
       "    </tr>\n",
       "    <tr>\n",
       "      <td>2</td>\n",
       "      <td>INTC</td>\n",
       "      <td>2018</td>\n",
       "      <td>7.084800e+10</td>\n",
       "      <td>0.1289</td>\n",
       "      <td>2.711100e+10</td>\n",
       "      <td>4.373700e+10</td>\n",
       "      <td>1.354300e+10</td>\n",
       "      <td>6.750000e+09</td>\n",
       "      <td>2.042100e+10</td>\n",
       "      <td>2.331600e+10</td>\n",
       "      <td>...</td>\n",
       "      <td>0.1989</td>\n",
       "      <td>0.0387</td>\n",
       "      <td>0.0382</td>\n",
       "      <td>0.1014</td>\n",
       "      <td>-0.0169</td>\n",
       "      <td>0.0390</td>\n",
       "      <td>-0.0942</td>\n",
       "      <td>Technology</td>\n",
       "      <td>30.295514</td>\n",
       "      <td>1</td>\n",
       "    </tr>\n",
       "    <tr>\n",
       "      <td>3</td>\n",
       "      <td>MU</td>\n",
       "      <td>2018</td>\n",
       "      <td>3.039100e+10</td>\n",
       "      <td>0.4955</td>\n",
       "      <td>1.250000e+10</td>\n",
       "      <td>1.789100e+10</td>\n",
       "      <td>2.141000e+09</td>\n",
       "      <td>8.130000e+08</td>\n",
       "      <td>2.897000e+09</td>\n",
       "      <td>1.499400e+10</td>\n",
       "      <td>...</td>\n",
       "      <td>0.4573</td>\n",
       "      <td>0.1511</td>\n",
       "      <td>0.2275</td>\n",
       "      <td>0.6395</td>\n",
       "      <td>-0.5841</td>\n",
       "      <td>0.1738</td>\n",
       "      <td>0.0942</td>\n",
       "      <td>Technology</td>\n",
       "      <td>64.213737</td>\n",
       "      <td>1</td>\n",
       "    </tr>\n",
       "    <tr>\n",
       "      <td>4</td>\n",
       "      <td>GE</td>\n",
       "      <td>2018</td>\n",
       "      <td>1.216150e+11</td>\n",
       "      <td>0.0285</td>\n",
       "      <td>9.546100e+10</td>\n",
       "      <td>2.615400e+10</td>\n",
       "      <td>0.000000e+00</td>\n",
       "      <td>1.811100e+10</td>\n",
       "      <td>4.071100e+10</td>\n",
       "      <td>-1.455700e+10</td>\n",
       "      <td>...</td>\n",
       "      <td>-0.2781</td>\n",
       "      <td>-0.2892</td>\n",
       "      <td>-0.1575</td>\n",
       "      <td>-0.4487</td>\n",
       "      <td>-0.2297</td>\n",
       "      <td>0.0000</td>\n",
       "      <td>0.0308</td>\n",
       "      <td>Industrials</td>\n",
       "      <td>44.757840</td>\n",
       "      <td>1</td>\n",
       "    </tr>\n",
       "  </tbody>\n",
       "</table>\n",
       "<p>5 rows × 226 columns</p>\n",
       "</div>"
      ],
      "text/plain": [
       "  Unnamed: 0  Year       Revenue  Revenue Growth  Cost of Revenue  \\\n",
       "0      CMCSA  2018  9.450700e+10          0.1115     0.000000e+00   \n",
       "1        KMI  2018  1.414400e+10          0.0320     7.288000e+09   \n",
       "2       INTC  2018  7.084800e+10          0.1289     2.711100e+10   \n",
       "3         MU  2018  3.039100e+10          0.4955     1.250000e+10   \n",
       "4         GE  2018  1.216150e+11          0.0285     9.546100e+10   \n",
       "\n",
       "   Gross Profit  R&D Expenses  SG&A Expense  Operating Expenses  \\\n",
       "0  9.450700e+10  0.000000e+00  6.482200e+10        7.549800e+10   \n",
       "1  6.856000e+09  0.000000e+00  6.010000e+08        3.062000e+09   \n",
       "2  4.373700e+10  1.354300e+10  6.750000e+09        2.042100e+10   \n",
       "3  1.789100e+10  2.141000e+09  8.130000e+08        2.897000e+09   \n",
       "4  2.615400e+10  0.000000e+00  1.811100e+10        4.071100e+10   \n",
       "\n",
       "   Operating Income  ...  Receivables growth  Inventory Growth  Asset Growth  \\\n",
       "0      1.900900e+10  ...              0.2570            0.0000        0.3426   \n",
       "1      3.794000e+09  ...              0.0345           -0.0920       -0.0024   \n",
       "2      2.331600e+10  ...              0.1989            0.0387        0.0382   \n",
       "3      1.499400e+10  ...              0.4573            0.1511        0.2275   \n",
       "4     -1.455700e+10  ...             -0.2781           -0.2892       -0.1575   \n",
       "\n",
       "   Book Value per Share Growth  Debt Growth  R&D Expense Growth  \\\n",
       "0                       0.0722       0.7309              0.0000   \n",
       "1                       0.0076      -0.0137              0.0000   \n",
       "2                       0.1014      -0.0169              0.0390   \n",
       "3                       0.6395      -0.5841              0.1738   \n",
       "4                      -0.4487      -0.2297              0.0000   \n",
       "\n",
       "   SG&A Expenses Growth             Sector  2019 PRICE VAR [%]  Class  \n",
       "0                0.1308  Consumer Cyclical           32.794573      1  \n",
       "1               -0.1265             Energy           40.588068      1  \n",
       "2               -0.0942         Technology           30.295514      1  \n",
       "3                0.0942         Technology           64.213737      1  \n",
       "4                0.0308        Industrials           44.757840      1  \n",
       "\n",
       "[5 rows x 226 columns]"
      ]
     },
     "execution_count": 14,
     "metadata": {},
     "output_type": "execute_result"
    }
   ],
   "source": [
    "df.head()"
   ]
  },
  {
   "cell_type": "code",
   "execution_count": 16,
   "metadata": {},
   "outputs": [
    {
     "ename": "ValueError",
     "evalue": "could not convert string to float: 'OSTK'",
     "output_type": "error",
     "traceback": [
      "\u001b[1;31m---------------------------------------------------------------------------\u001b[0m",
      "\u001b[1;31mValueError\u001b[0m                                Traceback (most recent call last)",
      "\u001b[1;32m<ipython-input-16-202e74048fb5>\u001b[0m in \u001b[0;36m<module>\u001b[1;34m\u001b[0m\n\u001b[1;32m----> 1\u001b[1;33m \u001b[0mscaler\u001b[0m \u001b[1;33m=\u001b[0m \u001b[0mStandardScaler\u001b[0m\u001b[1;33m(\u001b[0m\u001b[1;33m)\u001b[0m\u001b[1;33m.\u001b[0m\u001b[0mfit\u001b[0m\u001b[1;33m(\u001b[0m\u001b[0mX_train\u001b[0m\u001b[1;33m)\u001b[0m\u001b[1;33m\u001b[0m\u001b[1;33m\u001b[0m\u001b[0m\n\u001b[0m\u001b[0;32m      2\u001b[0m \u001b[0mscaler\u001b[0m\u001b[1;33m.\u001b[0m\u001b[0mfit\u001b[0m\u001b[1;33m(\u001b[0m\u001b[0mX_train\u001b[0m\u001b[1;33m)\u001b[0m\u001b[1;33m\u001b[0m\u001b[1;33m\u001b[0m\u001b[0m\n\u001b[0;32m      3\u001b[0m \u001b[0mX_train_scaled\u001b[0m \u001b[1;33m=\u001b[0m \u001b[0mscaler\u001b[0m\u001b[1;33m.\u001b[0m\u001b[0mtransform\u001b[0m\u001b[1;33m(\u001b[0m\u001b[0mX_train\u001b[0m\u001b[1;33m)\u001b[0m\u001b[1;33m\u001b[0m\u001b[1;33m\u001b[0m\u001b[0m\n\u001b[0;32m      4\u001b[0m \u001b[0mX_test_scaled\u001b[0m \u001b[1;33m=\u001b[0m \u001b[0mscaler\u001b[0m\u001b[1;33m.\u001b[0m\u001b[0mtransform\u001b[0m\u001b[1;33m(\u001b[0m\u001b[0mX_test\u001b[0m\u001b[1;33m)\u001b[0m\u001b[1;33m\u001b[0m\u001b[1;33m\u001b[0m\u001b[0m\n\u001b[0;32m      5\u001b[0m \u001b[1;33m\u001b[0m\u001b[0m\n",
      "\u001b[1;32m~\\Anaconda3\\lib\\site-packages\\sklearn\\preprocessing\\data.py\u001b[0m in \u001b[0;36mfit\u001b[1;34m(self, X, y)\u001b[0m\n\u001b[0;32m    637\u001b[0m         \u001b[1;31m# Reset internal state before fitting\u001b[0m\u001b[1;33m\u001b[0m\u001b[1;33m\u001b[0m\u001b[1;33m\u001b[0m\u001b[0m\n\u001b[0;32m    638\u001b[0m         \u001b[0mself\u001b[0m\u001b[1;33m.\u001b[0m\u001b[0m_reset\u001b[0m\u001b[1;33m(\u001b[0m\u001b[1;33m)\u001b[0m\u001b[1;33m\u001b[0m\u001b[1;33m\u001b[0m\u001b[0m\n\u001b[1;32m--> 639\u001b[1;33m         \u001b[1;32mreturn\u001b[0m \u001b[0mself\u001b[0m\u001b[1;33m.\u001b[0m\u001b[0mpartial_fit\u001b[0m\u001b[1;33m(\u001b[0m\u001b[0mX\u001b[0m\u001b[1;33m,\u001b[0m \u001b[0my\u001b[0m\u001b[1;33m)\u001b[0m\u001b[1;33m\u001b[0m\u001b[1;33m\u001b[0m\u001b[0m\n\u001b[0m\u001b[0;32m    640\u001b[0m \u001b[1;33m\u001b[0m\u001b[0m\n\u001b[0;32m    641\u001b[0m     \u001b[1;32mdef\u001b[0m \u001b[0mpartial_fit\u001b[0m\u001b[1;33m(\u001b[0m\u001b[0mself\u001b[0m\u001b[1;33m,\u001b[0m \u001b[0mX\u001b[0m\u001b[1;33m,\u001b[0m \u001b[0my\u001b[0m\u001b[1;33m=\u001b[0m\u001b[1;32mNone\u001b[0m\u001b[1;33m)\u001b[0m\u001b[1;33m:\u001b[0m\u001b[1;33m\u001b[0m\u001b[1;33m\u001b[0m\u001b[0m\n",
      "\u001b[1;32m~\\Anaconda3\\lib\\site-packages\\sklearn\\preprocessing\\data.py\u001b[0m in \u001b[0;36mpartial_fit\u001b[1;34m(self, X, y)\u001b[0m\n\u001b[0;32m    661\u001b[0m         X = check_array(X, accept_sparse=('csr', 'csc'), copy=self.copy,\n\u001b[0;32m    662\u001b[0m                         \u001b[0mestimator\u001b[0m\u001b[1;33m=\u001b[0m\u001b[0mself\u001b[0m\u001b[1;33m,\u001b[0m \u001b[0mdtype\u001b[0m\u001b[1;33m=\u001b[0m\u001b[0mFLOAT_DTYPES\u001b[0m\u001b[1;33m,\u001b[0m\u001b[1;33m\u001b[0m\u001b[1;33m\u001b[0m\u001b[0m\n\u001b[1;32m--> 663\u001b[1;33m                         force_all_finite='allow-nan')\n\u001b[0m\u001b[0;32m    664\u001b[0m \u001b[1;33m\u001b[0m\u001b[0m\n\u001b[0;32m    665\u001b[0m         \u001b[1;31m# Even in the case of `with_mean=False`, we update the mean anyway\u001b[0m\u001b[1;33m\u001b[0m\u001b[1;33m\u001b[0m\u001b[1;33m\u001b[0m\u001b[0m\n",
      "\u001b[1;32m~\\Anaconda3\\lib\\site-packages\\sklearn\\utils\\validation.py\u001b[0m in \u001b[0;36mcheck_array\u001b[1;34m(array, accept_sparse, accept_large_sparse, dtype, order, copy, force_all_finite, ensure_2d, allow_nd, ensure_min_samples, ensure_min_features, warn_on_dtype, estimator)\u001b[0m\n\u001b[0;32m    494\u001b[0m             \u001b[1;32mtry\u001b[0m\u001b[1;33m:\u001b[0m\u001b[1;33m\u001b[0m\u001b[1;33m\u001b[0m\u001b[0m\n\u001b[0;32m    495\u001b[0m                 \u001b[0mwarnings\u001b[0m\u001b[1;33m.\u001b[0m\u001b[0msimplefilter\u001b[0m\u001b[1;33m(\u001b[0m\u001b[1;34m'error'\u001b[0m\u001b[1;33m,\u001b[0m \u001b[0mComplexWarning\u001b[0m\u001b[1;33m)\u001b[0m\u001b[1;33m\u001b[0m\u001b[1;33m\u001b[0m\u001b[0m\n\u001b[1;32m--> 496\u001b[1;33m                 \u001b[0marray\u001b[0m \u001b[1;33m=\u001b[0m \u001b[0mnp\u001b[0m\u001b[1;33m.\u001b[0m\u001b[0masarray\u001b[0m\u001b[1;33m(\u001b[0m\u001b[0marray\u001b[0m\u001b[1;33m,\u001b[0m \u001b[0mdtype\u001b[0m\u001b[1;33m=\u001b[0m\u001b[0mdtype\u001b[0m\u001b[1;33m,\u001b[0m \u001b[0morder\u001b[0m\u001b[1;33m=\u001b[0m\u001b[0morder\u001b[0m\u001b[1;33m)\u001b[0m\u001b[1;33m\u001b[0m\u001b[1;33m\u001b[0m\u001b[0m\n\u001b[0m\u001b[0;32m    497\u001b[0m             \u001b[1;32mexcept\u001b[0m \u001b[0mComplexWarning\u001b[0m\u001b[1;33m:\u001b[0m\u001b[1;33m\u001b[0m\u001b[1;33m\u001b[0m\u001b[0m\n\u001b[0;32m    498\u001b[0m                 raise ValueError(\"Complex data not supported\\n\"\n",
      "\u001b[1;32m~\\Anaconda3\\lib\\site-packages\\numpy\\core\\numeric.py\u001b[0m in \u001b[0;36masarray\u001b[1;34m(a, dtype, order)\u001b[0m\n\u001b[0;32m    536\u001b[0m \u001b[1;33m\u001b[0m\u001b[0m\n\u001b[0;32m    537\u001b[0m     \"\"\"\n\u001b[1;32m--> 538\u001b[1;33m     \u001b[1;32mreturn\u001b[0m \u001b[0marray\u001b[0m\u001b[1;33m(\u001b[0m\u001b[0ma\u001b[0m\u001b[1;33m,\u001b[0m \u001b[0mdtype\u001b[0m\u001b[1;33m,\u001b[0m \u001b[0mcopy\u001b[0m\u001b[1;33m=\u001b[0m\u001b[1;32mFalse\u001b[0m\u001b[1;33m,\u001b[0m \u001b[0morder\u001b[0m\u001b[1;33m=\u001b[0m\u001b[0morder\u001b[0m\u001b[1;33m)\u001b[0m\u001b[1;33m\u001b[0m\u001b[1;33m\u001b[0m\u001b[0m\n\u001b[0m\u001b[0;32m    539\u001b[0m \u001b[1;33m\u001b[0m\u001b[0m\n\u001b[0;32m    540\u001b[0m \u001b[1;33m\u001b[0m\u001b[0m\n",
      "\u001b[1;31mValueError\u001b[0m: could not convert string to float: 'OSTK'"
     ]
    }
   ],
   "source": [
    "scaler = StandardScaler().fit(X_train)\n",
    "scaler.fit(X_train)\n",
    "X_train_scaled = scaler.transform(X_train)\n",
    "X_test_scaled = scaler.transform(X_test)\n",
    "\n",
    "#learning MLP model\n",
    "from sklearn.neural_network import MLPClassifier \n",
    "mlp = MLPClassifier().fit(X_train_scaled, y_train)\n",
    "print(\"Accuracy on scaled test set: {:.3f}\".format(mlp.score(X_test_scaled, y_test)))\n"
   ]
  },
  {
   "cell_type": "markdown",
   "metadata": {},
   "source": [
    "### Question 2\n",
    "Read the HomesSoldHellerup.csv file, using the pandas read_csv method (note that the separator is a semicolon and not a comma, which is the default). How many different values are there for the Type feature? What about Type of Sale?"
   ]
  },
  {
   "cell_type": "code",
   "execution_count": 37,
   "metadata": {},
   "outputs": [
    {
     "data": {
      "text/html": [
       "<div>\n",
       "<style scoped>\n",
       "    .dataframe tbody tr th:only-of-type {\n",
       "        vertical-align: middle;\n",
       "    }\n",
       "\n",
       "    .dataframe tbody tr th {\n",
       "        vertical-align: top;\n",
       "    }\n",
       "\n",
       "    .dataframe thead th {\n",
       "        text-align: right;\n",
       "    }\n",
       "</style>\n",
       "<table border=\"1\" class=\"dataframe\">\n",
       "  <thead>\n",
       "    <tr style=\"text-align: right;\">\n",
       "      <th></th>\n",
       "      <th>Road name</th>\n",
       "      <th>Road Number</th>\n",
       "      <th>Type</th>\n",
       "      <th>m2</th>\n",
       "      <th>Build Year</th>\n",
       "      <th>ZipCode</th>\n",
       "      <th>City</th>\n",
       "      <th>Date of Sale</th>\n",
       "      <th>Type of Sale</th>\n",
       "      <th>Price</th>\n",
       "    </tr>\n",
       "  </thead>\n",
       "  <tbody>\n",
       "    <tr>\n",
       "      <td>0</td>\n",
       "      <td>Tuborgvej</td>\n",
       "      <td>54</td>\n",
       "      <td>Lejlighed</td>\n",
       "      <td>54</td>\n",
       "      <td>1932</td>\n",
       "      <td>2900</td>\n",
       "      <td>Hellerup</td>\n",
       "      <td>20-07-15</td>\n",
       "      <td>Alm. Salg</td>\n",
       "      <td>1700000</td>\n",
       "    </tr>\n",
       "    <tr>\n",
       "      <td>1</td>\n",
       "      <td>Tuborgvej</td>\n",
       "      <td>54</td>\n",
       "      <td>Lejlighed</td>\n",
       "      <td>87</td>\n",
       "      <td>1932</td>\n",
       "      <td>2900</td>\n",
       "      <td>Hellerup</td>\n",
       "      <td>12-05-15</td>\n",
       "      <td>Alm. Salg</td>\n",
       "      <td>2815000</td>\n",
       "    </tr>\n",
       "    <tr>\n",
       "      <td>2</td>\n",
       "      <td>Tuborgvej</td>\n",
       "      <td>54</td>\n",
       "      <td>Lejlighed</td>\n",
       "      <td>63</td>\n",
       "      <td>1932</td>\n",
       "      <td>2900</td>\n",
       "      <td>Hellerup</td>\n",
       "      <td>29-12-10</td>\n",
       "      <td>Alm. Salg</td>\n",
       "      <td>1575000</td>\n",
       "    </tr>\n",
       "    <tr>\n",
       "      <td>3</td>\n",
       "      <td>Tuborgvej</td>\n",
       "      <td>54</td>\n",
       "      <td>Lejlighed</td>\n",
       "      <td>54</td>\n",
       "      <td>1932</td>\n",
       "      <td>2900</td>\n",
       "      <td>Hellerup</td>\n",
       "      <td>10-04-12</td>\n",
       "      <td>Alm. Salg</td>\n",
       "      <td>1340000</td>\n",
       "    </tr>\n",
       "    <tr>\n",
       "      <td>4</td>\n",
       "      <td>Tuborgvej</td>\n",
       "      <td>54</td>\n",
       "      <td>Lejlighed</td>\n",
       "      <td>63</td>\n",
       "      <td>1932</td>\n",
       "      <td>2900</td>\n",
       "      <td>Hellerup</td>\n",
       "      <td>04-02-12</td>\n",
       "      <td>Alm. Salg</td>\n",
       "      <td>1435000</td>\n",
       "    </tr>\n",
       "  </tbody>\n",
       "</table>\n",
       "</div>"
      ],
      "text/plain": [
       "     Road name Road Number       Type  m2  Build Year  ZipCode      City  \\\n",
       "0  Tuborgvej            54  Lejlighed  54        1932     2900  Hellerup   \n",
       "1  Tuborgvej            54  Lejlighed  87        1932     2900  Hellerup   \n",
       "2  Tuborgvej            54  Lejlighed  63        1932     2900  Hellerup   \n",
       "3  Tuborgvej            54  Lejlighed  54        1932     2900  Hellerup   \n",
       "4  Tuborgvej            54  Lejlighed  63        1932     2900  Hellerup   \n",
       "\n",
       "  Date of Sale Type of Sale    Price  \n",
       "0     20-07-15    Alm. Salg  1700000  \n",
       "1     12-05-15    Alm. Salg  2815000  \n",
       "2     29-12-10    Alm. Salg  1575000  \n",
       "3     10-04-12    Alm. Salg  1340000  \n",
       "4     04-02-12    Alm. Salg  1435000  "
      ]
     },
     "execution_count": 37,
     "metadata": {},
     "output_type": "execute_result"
    }
   ],
   "source": [
    "homes = pd.read_csv(\"HomesSoldHellerup.csv\", sep=';')\n",
    "homes.head()\n"
   ]
  },
  {
   "cell_type": "code",
   "execution_count": 45,
   "metadata": {},
   "outputs": [
    {
     "name": "stdout",
     "output_type": "stream",
     "text": [
      "Counts of 'Types of Sale' features: Lejlighed          1237\n",
      "Villa               742\n",
      "Rækkehus            174\n",
      "Stuehus               3\n",
      "Døgninstitution       2\n",
      "Erhverv               2\n",
      "Name: Type, dtype: int64\n",
      "Counts of 'Types of Sale' features: Alm. Salg    1978\n",
      "Fam. Salg     109\n",
      "Andet          52\n",
      "Auktion        21\n",
      "Name: Type of Sale, dtype: int64\n"
     ]
    }
   ],
   "source": [
    "print(\"Counts of 'Types of Sale' features:\", homes.Type.value_counts())\n",
    "print(\"Counts of 'Types of Sale' features:\", homes['Type of Sale'].value_counts())\n"
   ]
  },
  {
   "cell_type": "markdown",
   "metadata": {},
   "source": [
    "### Question 3\n",
    "Assign to X a list of the features, m2 and Build Year. The target value y is Price. Perform a test-train split, and then create a Linear Regression model. What results do you get? "
   ]
  },
  {
   "cell_type": "code",
   "execution_count": 70,
   "metadata": {},
   "outputs": [
    {
     "name": "stdout",
     "output_type": "stream",
     "text": [
      "       m2  Build Year\n",
      "0      54        1932\n",
      "1      87        1932\n",
      "2      63        1932\n",
      "3      54        1932\n",
      "4      63        1932\n",
      "...   ...         ...\n",
      "2155  163        1900\n",
      "2156  128        1915\n",
      "2157  182        1963\n",
      "2158  202        2007\n",
      "2159  202        2011\n",
      "\n",
      "[2160 rows x 2 columns]\n",
      "Training set score: 0.32\n",
      "Test set score: 0.35\n"
     ]
    }
   ],
   "source": [
    "X=homes[['m2', \"Build Year\"]];\n",
    "y=homes['Price']\n",
    "\n",
    "print(X)\n",
    "X_train, X_test, y_train, y_test = train_test_split(X, y, random_state=42)\n",
    "lr = LinearRegression().fit(X_train, y_train)\n",
    "print(\"Training set score: {:.2f}\".format(lr.score(X_train, y_train))) \n",
    "print(\"Test set score: {:.2f}\".format(lr.score(X_test, y_test)))\n"
   ]
  },
  {
   "cell_type": "markdown",
   "metadata": {},
   "source": [
    "### Question 4\n",
    "\n",
    "Try a Random Forest regressor on this data, with 30 estimators. What are the results here?"
   ]
  },
  {
   "cell_type": "code",
   "execution_count": 95,
   "metadata": {},
   "outputs": [
    {
     "name": "stdout",
     "output_type": "stream",
     "text": [
      "Accuracy on training set: 0.723\n",
      "Accuracy on test set: 0.015\n"
     ]
    }
   ],
   "source": [
    "from sklearn.ensemble import RandomForestClassifier\n",
    "forest=RandomForestClassifier(n_estimators=30, random_state=0)\n",
    "forest.fit(X_train, y_train)\n",
    "train_score = forest.score(X_train, y_train)\n",
    "test_score = forest.score(X_test, y_test)\n",
    "print(\"Accuracy on training set: {:.3f}\".format(forest.score(X_train, y_train))) \n",
    "print(\"Accuracy on test set: {:.3f}\".format(forest.score(X_test, y_test)))\n"
   ]
  },
  {
   "cell_type": "markdown",
   "metadata": {},
   "source": [
    "### Question 5\n",
    "Assign to X the features m2, Build Year and Type. Create dummy values for Type, using the get_dummies method. How many features are there now?"
   ]
  },
  {
   "cell_type": "code",
   "execution_count": 103,
   "metadata": {},
   "outputs": [
    {
     "name": "stdout",
     "output_type": "stream",
     "text": [
      "Features after get_dummies:\n",
      " ['m2', 'Build Year', 'Type_Døgninstitution', 'Type_Erhverv', 'Type_Lejlighed', 'Type_Rækkehus', 'Type_Stuehus', 'Type_Villa']\n"
     ]
    }
   ],
   "source": [
    "X=homes[['m2', \"Build Year\", 'Type']]\n",
    "data_dummies = pd.get_dummies(X)\n",
    "\n",
    "print(\"Features after get_dummies:\\n\", list(data_dummies.columns))"
   ]
  },
  {
   "cell_type": "code",
   "execution_count": 91,
   "metadata": {},
   "outputs": [
    {
     "data": {
      "text/html": [
       "<div>\n",
       "<style scoped>\n",
       "    .dataframe tbody tr th:only-of-type {\n",
       "        vertical-align: middle;\n",
       "    }\n",
       "\n",
       "    .dataframe tbody tr th {\n",
       "        vertical-align: top;\n",
       "    }\n",
       "\n",
       "    .dataframe thead th {\n",
       "        text-align: right;\n",
       "    }\n",
       "</style>\n",
       "<table border=\"1\" class=\"dataframe\">\n",
       "  <thead>\n",
       "    <tr style=\"text-align: right;\">\n",
       "      <th></th>\n",
       "      <th>m2</th>\n",
       "      <th>Build Year</th>\n",
       "      <th>Type_Døgninstitution</th>\n",
       "      <th>Type_Erhverv</th>\n",
       "      <th>Type_Lejlighed</th>\n",
       "      <th>Type_Rækkehus</th>\n",
       "      <th>Type_Stuehus</th>\n",
       "      <th>Type_Villa</th>\n",
       "    </tr>\n",
       "  </thead>\n",
       "  <tbody>\n",
       "    <tr>\n",
       "      <td>0</td>\n",
       "      <td>54</td>\n",
       "      <td>1932</td>\n",
       "      <td>0</td>\n",
       "      <td>0</td>\n",
       "      <td>1</td>\n",
       "      <td>0</td>\n",
       "      <td>0</td>\n",
       "      <td>0</td>\n",
       "    </tr>\n",
       "    <tr>\n",
       "      <td>1</td>\n",
       "      <td>87</td>\n",
       "      <td>1932</td>\n",
       "      <td>0</td>\n",
       "      <td>0</td>\n",
       "      <td>1</td>\n",
       "      <td>0</td>\n",
       "      <td>0</td>\n",
       "      <td>0</td>\n",
       "    </tr>\n",
       "    <tr>\n",
       "      <td>2</td>\n",
       "      <td>63</td>\n",
       "      <td>1932</td>\n",
       "      <td>0</td>\n",
       "      <td>0</td>\n",
       "      <td>1</td>\n",
       "      <td>0</td>\n",
       "      <td>0</td>\n",
       "      <td>0</td>\n",
       "    </tr>\n",
       "    <tr>\n",
       "      <td>3</td>\n",
       "      <td>54</td>\n",
       "      <td>1932</td>\n",
       "      <td>0</td>\n",
       "      <td>0</td>\n",
       "      <td>1</td>\n",
       "      <td>0</td>\n",
       "      <td>0</td>\n",
       "      <td>0</td>\n",
       "    </tr>\n",
       "    <tr>\n",
       "      <td>4</td>\n",
       "      <td>63</td>\n",
       "      <td>1932</td>\n",
       "      <td>0</td>\n",
       "      <td>0</td>\n",
       "      <td>1</td>\n",
       "      <td>0</td>\n",
       "      <td>0</td>\n",
       "      <td>0</td>\n",
       "    </tr>\n",
       "  </tbody>\n",
       "</table>\n",
       "</div>"
      ],
      "text/plain": [
       "   m2  Build Year  Type_Døgninstitution  Type_Erhverv  Type_Lejlighed  \\\n",
       "0  54        1932                     0             0               1   \n",
       "1  87        1932                     0             0               1   \n",
       "2  63        1932                     0             0               1   \n",
       "3  54        1932                     0             0               1   \n",
       "4  63        1932                     0             0               1   \n",
       "\n",
       "   Type_Rækkehus  Type_Stuehus  Type_Villa  \n",
       "0              0             0           0  \n",
       "1              0             0           0  \n",
       "2              0             0           0  \n",
       "3              0             0           0  \n",
       "4              0             0           0  "
      ]
     },
     "execution_count": 91,
     "metadata": {},
     "output_type": "execute_result"
    }
   ],
   "source": [
    "data_dummies.head()"
   ]
  },
  {
   "cell_type": "code",
   "execution_count": 97,
   "metadata": {},
   "outputs": [
    {
     "name": "stdout",
     "output_type": "stream",
     "text": [
      "Data shape: (2160, 8)\n"
     ]
    }
   ],
   "source": [
    "print(\"Data shape:\", data_dummies.shape)\n",
    "#eight features"
   ]
  },
  {
   "cell_type": "markdown",
   "metadata": {},
   "source": [
    "### Question 6\n",
    "Perform test-train split again using the dummy features, and then do another Linear Regression. What results do you get? "
   ]
  },
  {
   "cell_type": "code",
   "execution_count": 109,
   "metadata": {},
   "outputs": [
    {
     "name": "stdout",
     "output_type": "stream",
     "text": [
      "Training set score: 0.33\n",
      "Test set score: 0.36\n"
     ]
    }
   ],
   "source": [
    "D = data_dummies\n",
    "D_train, D_test, y_train, y_test = train_test_split(D, y, random_state=42)\n",
    "\n",
    "lr = LinearRegression().fit(D_train, y_train)\n",
    "print(\"Training set score: {:.2f}\".format(lr.score(D_train, y_train))) \n",
    "print(\"Test set score: {:.2f}\".format(lr.score(D_test, y_test)))\n"
   ]
  },
  {
   "cell_type": "markdown",
   "metadata": {},
   "source": [
    "### Question 7\n",
    "Try Random Forest regression using the dummy features, and report those results."
   ]
  },
  {
   "cell_type": "code",
   "execution_count": 143,
   "metadata": {},
   "outputs": [
    {
     "name": "stdout",
     "output_type": "stream",
     "text": [
      "Accuracy on training set: 0.937\n",
      "Accuracy on test set: 0.526\n"
     ]
    }
   ],
   "source": [
    "from sklearn.ensemble import RandomForestRegressor\n",
    "forest=RandomForestRegressor(n_estimators=30, random_state=0)\n",
    "forest.fit(D_train, y_train)\n",
    "print(\"Accuracy on training set: {:.3f}\".format(forest.score(D_train, y_train))) \n",
    "print(\"Accuracy on test set: {:.3f}\".format(forest.score(D_test, y_test)))"
   ]
  },
  {
   "cell_type": "markdown",
   "metadata": {},
   "source": [
    "### Question 8 (optional)\n",
    "Try adding some additional features from the original HomesSoldHellerup data, converting them to dummies if necessary. What other features have predictive value? Find the best subset of features you can, and try various settings of hyperparameters. What is the best result you can get? (You can test this with Linear Regression or Random Forest)"
   ]
  },
  {
   "cell_type": "code",
   "execution_count": 144,
   "metadata": {},
   "outputs": [
    {
     "data": {
      "text/html": [
       "<div>\n",
       "<style scoped>\n",
       "    .dataframe tbody tr th:only-of-type {\n",
       "        vertical-align: middle;\n",
       "    }\n",
       "\n",
       "    .dataframe tbody tr th {\n",
       "        vertical-align: top;\n",
       "    }\n",
       "\n",
       "    .dataframe thead th {\n",
       "        text-align: right;\n",
       "    }\n",
       "</style>\n",
       "<table border=\"1\" class=\"dataframe\">\n",
       "  <thead>\n",
       "    <tr style=\"text-align: right;\">\n",
       "      <th></th>\n",
       "      <th>m2</th>\n",
       "      <th>Build Year</th>\n",
       "      <th>ZipCode</th>\n",
       "      <th>Type_Døgninstitution</th>\n",
       "      <th>Type_Erhverv</th>\n",
       "      <th>Type_Lejlighed</th>\n",
       "      <th>Type_Rækkehus</th>\n",
       "      <th>Type_Stuehus</th>\n",
       "      <th>Type_Villa</th>\n",
       "    </tr>\n",
       "  </thead>\n",
       "  <tbody>\n",
       "    <tr>\n",
       "      <td>0</td>\n",
       "      <td>54</td>\n",
       "      <td>1932</td>\n",
       "      <td>2900</td>\n",
       "      <td>0</td>\n",
       "      <td>0</td>\n",
       "      <td>1</td>\n",
       "      <td>0</td>\n",
       "      <td>0</td>\n",
       "      <td>0</td>\n",
       "    </tr>\n",
       "    <tr>\n",
       "      <td>1</td>\n",
       "      <td>87</td>\n",
       "      <td>1932</td>\n",
       "      <td>2900</td>\n",
       "      <td>0</td>\n",
       "      <td>0</td>\n",
       "      <td>1</td>\n",
       "      <td>0</td>\n",
       "      <td>0</td>\n",
       "      <td>0</td>\n",
       "    </tr>\n",
       "    <tr>\n",
       "      <td>2</td>\n",
       "      <td>63</td>\n",
       "      <td>1932</td>\n",
       "      <td>2900</td>\n",
       "      <td>0</td>\n",
       "      <td>0</td>\n",
       "      <td>1</td>\n",
       "      <td>0</td>\n",
       "      <td>0</td>\n",
       "      <td>0</td>\n",
       "    </tr>\n",
       "    <tr>\n",
       "      <td>3</td>\n",
       "      <td>54</td>\n",
       "      <td>1932</td>\n",
       "      <td>2900</td>\n",
       "      <td>0</td>\n",
       "      <td>0</td>\n",
       "      <td>1</td>\n",
       "      <td>0</td>\n",
       "      <td>0</td>\n",
       "      <td>0</td>\n",
       "    </tr>\n",
       "    <tr>\n",
       "      <td>4</td>\n",
       "      <td>63</td>\n",
       "      <td>1932</td>\n",
       "      <td>2900</td>\n",
       "      <td>0</td>\n",
       "      <td>0</td>\n",
       "      <td>1</td>\n",
       "      <td>0</td>\n",
       "      <td>0</td>\n",
       "      <td>0</td>\n",
       "    </tr>\n",
       "  </tbody>\n",
       "</table>\n",
       "</div>"
      ],
      "text/plain": [
       "   m2  Build Year  ZipCode  Type_Døgninstitution  Type_Erhverv  \\\n",
       "0  54        1932     2900                     0             0   \n",
       "1  87        1932     2900                     0             0   \n",
       "2  63        1932     2900                     0             0   \n",
       "3  54        1932     2900                     0             0   \n",
       "4  63        1932     2900                     0             0   \n",
       "\n",
       "   Type_Lejlighed  Type_Rækkehus  Type_Stuehus  Type_Villa  \n",
       "0               1              0             0           0  \n",
       "1               1              0             0           0  \n",
       "2               1              0             0           0  \n",
       "3               1              0             0           0  \n",
       "4               1              0             0           0  "
      ]
     },
     "execution_count": 144,
     "metadata": {},
     "output_type": "execute_result"
    }
   ],
   "source": [
    "d=homes[['m2', \"Build Year\", 'Type', 'ZipCode']]\n",
    "X1 = pd.get_dummies(d)\n",
    "X1.head()"
   ]
  },
  {
   "cell_type": "code",
   "execution_count": 145,
   "metadata": {},
   "outputs": [
    {
     "name": "stdout",
     "output_type": "stream",
     "text": [
      "Original shape: (2160, 9)\n",
      "Reduced shape: (2160, 2)\n",
      "PCA component shape: (2, 9)\n",
      "PCA components:\n",
      "[[ 0.50657716 -0.23063848  0.08013122  0.04004188  0.01094476 -0.58702371\n",
      "   0.04818167  0.05258732  0.57650463]\n",
      " [-0.02269822  0.07794557  0.6989236  -0.01396474 -0.00660376  0.0309154\n",
      "  -0.01719775  0.70540438 -0.07635175]]\n"
     ]
    }
   ],
   "source": [
    "y = homes['Price']\n",
    "scaler = StandardScaler()\n",
    "scaler.fit(X1)\n",
    "X1_scaled = scaler.transform(X1)\n",
    "pca = PCA(n_components=2)\n",
    "pca.fit(X1_scaled)\n",
    "\n",
    "X1_pca = pca.transform(X1_scaled)\n",
    "print(\"Original shape: {}\".format(str(X1_scaled.shape)))\n",
    "print(\"Reduced shape: {}\".format(str(X1_pca.shape)))\n",
    "\n",
    "print(\"PCA component shape: {}\".format(pca.components_.shape))\n",
    "print(\"PCA components:\\n{}\".format(pca.components_))\n"
   ]
  },
  {
   "cell_type": "code",
   "execution_count": 146,
   "metadata": {},
   "outputs": [
    {
     "data": {
      "text/plain": [
       "Text(0, 0.5, 'Principal components')"
      ]
     },
     "execution_count": 146,
     "metadata": {},
     "output_type": "execute_result"
    },
    {
     "data": {
      "image/png": "[encoded data removed]",
      "text/plain": [
       "<Figure size 1152x256 with 2 Axes>"
      ]
     },
     "metadata": {
      "needs_background": "light"
     },
     "output_type": "display_data"
    }
   ],
   "source": [
    "plt.matshow(pca.components_, cmap='viridis') \n",
    "plt.yticks([0, 1], [\"First component\", \"Second component\"]) \n",
    "plt.colorbar() \n",
    "plt.xticks(range(len(X1)), X1, rotation=60, ha='left') \n",
    "plt.xlabel(\"Feature\") \n",
    "plt.ylabel(\"Principal components\")\n"
   ]
  },
  {
   "cell_type": "code",
   "execution_count": null,
   "metadata": {},
   "outputs": [],
   "source": []
  }
 ],
 "metadata": {
  "kernelspec": {
   "display_name": "Python 3",
   "language": "python",
   "name": "python3"
  },
  "language_info": {
   "codemirror_mode": {
    "name": "ipython",
    "version": 3
   },
   "file_extension": ".py",
   "mimetype": "text/x-python",
   "name": "python",
   "nbconvert_exporter": "python",
   "pygments_lexer": "ipython3",
   "version": "3.7.3"
  }
 },
 "nbformat": 4,
 "nbformat_minor": 2
}
